{
 "cells": [
  {
   "cell_type": "markdown",
   "metadata": {},
   "source": [
    "# Importação de modulos e arquivos"
   ]
  },
  {
   "cell_type": "code",
   "execution_count": 1,
   "metadata": {},
   "outputs": [],
   "source": [
    "import pandas as pd"
   ]
  },
  {
   "cell_type": "code",
   "execution_count": 2,
   "metadata": {},
   "outputs": [],
   "source": [
    "serv_prestado_df = pd.read_excel('BaseServiçosPrestados.xlsx')\n",
    "cliente_df = pd.read_csv('CadastroClientes.csv', sep = ';', decimal = ',', encoding = 'utf-8')\n",
    "funcionario_df = pd.read_csv('CadastroFuncionarios.csv', sep = ';', decimal = ',', encoding = 'utf-8')"
   ]
  },
  {
   "cell_type": "code",
   "execution_count": 3,
   "metadata": {},
   "outputs": [],
   "source": [
    "#Apagar colunas\n",
    "funcionario_df = funcionario_df.drop(['Estado Civil', 'Cargo'], axis =1)"
   ]
  },
  {
   "cell_type": "markdown",
   "metadata": {},
   "source": [
    "# Valor total gasto"
   ]
  },
  {
   "cell_type": "code",
   "execution_count": 4,
   "metadata": {},
   "outputs": [
    {
     "name": "stdout",
     "output_type": "stream",
     "text": [
      "O Valor total da folha salarial foi de R$2,717,493.2\n"
     ]
    }
   ],
   "source": [
    "funcionario_df['Valor Total'] = funcionario_df['Salario Base'] + funcionario_df['Impostos'] + funcionario_df['Beneficios'] + funcionario_df['VT'] + funcionario_df['VR']\n",
    "valor_total_func = funcionario_df['Valor Total'].sum()\n",
    "\n",
    "print('O Valor total da folha salarial foi de R${:10,.1f}'.format(valor_total_func))"
   ]
  },
  {
   "cell_type": "markdown",
   "metadata": {},
   "source": [
    "# Faturamento"
   ]
  },
  {
   "cell_type": "code",
   "execution_count": 5,
   "metadata": {
    "scrolled": true
   },
   "outputs": [
    {
     "name": "stdout",
     "output_type": "stream",
     "text": [
      "Faturamento Total: R$5,519,160\n"
     ]
    }
   ],
   "source": [
    "faturamento_df = serv_prestado_df[['ID Cliente', 'Tempo Total de Contrato (Meses)']].merge(cliente_df[['ID Cliente', 'Valor Contrato Mensal']], on ='ID Cliente')\n",
    "faturamento_df['Valor Contrato Total'] = faturamento_df['Tempo Total de Contrato (Meses)'] * faturamento_df['Valor Contrato Mensal']\n",
    "\n",
    "print('Faturamento Total: R${:,}'.format(sum(faturamento_df['Valor Contrato Total'])))"
   ]
  },
  {
   "cell_type": "markdown",
   "metadata": {},
   "source": [
    "# % de funcionarios que fecharam contratos\n"
   ]
  },
  {
   "cell_type": "code",
   "execution_count": 6,
   "metadata": {
    "scrolled": true
   },
   "outputs": [
    {
     "name": "stdout",
     "output_type": "stream",
     "text": [
      "O percentual de funcionarios que fechou algum contrato foi de de 86.84%\n"
     ]
    }
   ],
   "source": [
    "qtd_funcionarios_totais = len(funcionario_df['ID Funcionário'].unique())\n",
    "qtd_funcionarios_servico = len(serv_prestado_df['ID Funcionário'].unique())\n",
    "\n",
    "print('O percentual de funcionarios que fechou algum contrato foi de de {:.2%}'.format(qtd_funcionarios_servico / qtd_funcionarios_totais))"
   ]
  },
  {
   "cell_type": "markdown",
   "metadata": {},
   "source": [
    "# Contratos por área"
   ]
  },
  {
   "cell_type": "code",
   "execution_count": 10,
   "metadata": {},
   "outputs": [
    {
     "data": {
      "text/plain": [
       "<AxesSubplot:title={'center':'Contratos por Area'}>"
      ]
     },
     "execution_count": 10,
     "metadata": {},
     "output_type": "execute_result"
    },
    {
     "data": {
      "image/png": "[encoded data removed]",
      "text/plain": [
       "<Figure size 1080x360 with 1 Axes>"
      ]
     },
     "metadata": {
      "needs_background": "light"
     },
     "output_type": "display_data"
    }
   ],
   "source": [
    "contratos_area_df = serv_prestado_df[['ID Funcionário']].merge(funcionario_df[['ID Funcionário', 'Area']], on='ID Funcionário')\n",
    "contratos_area_qtde = contratos_area_df['Area'].value_counts()\n",
    "\n",
    "contratos_area_qtde.plot.barh(figsize = (15,5), color = 'blue', title = 'Contratos por Area')"
   ]
  },
  {
   "cell_type": "markdown",
   "metadata": {},
   "source": [
    "# Total de funcionarios por área"
   ]
  },
  {
   "cell_type": "code",
   "execution_count": 11,
   "metadata": {},
   "outputs": [
    {
     "data": {
      "text/plain": [
       "<AxesSubplot:title={'center':'Funcionario por Área'}>"
      ]
     },
     "execution_count": 11,
     "metadata": {},
     "output_type": "execute_result"
    },
    {
     "data": {
      "image/png": "[encoded data removed]",
      "text/plain": [
       "<Figure size 1080x360 with 1 Axes>"
      ]
     },
     "metadata": {
      "needs_background": "light"
     },
     "output_type": "display_data"
    }
   ],
   "source": [
    "funcionario_area = funcionario_df['Area'].value_counts()\n",
    "\n",
    "funcionario_area.plot.barh(figsize = (15,5), title = 'Funcionario por Área', color = 'blue')"
   ]
  },
  {
   "cell_type": "markdown",
   "metadata": {},
   "source": [
    "# Ticket Médio\n"
   ]
  },
  {
   "cell_type": "code",
   "execution_count": 9,
   "metadata": {},
   "outputs": [
    {
     "name": "stdout",
     "output_type": "stream",
     "text": [
      "O valor do Ticket Médio Mensal foi de R$2,502.6\n"
     ]
    }
   ],
   "source": [
    "ticket_medio_contrato = cliente_df['Valor Contrato Mensal'].mean()\n",
    "print('O valor do Ticket Médio Mensal foi de R${:1,.1f}'.format(ticket_medio_contrato))"
   ]
  }
 ],
 "metadata": {
  "kernelspec": {
   "display_name": "Python 3 (ipykernel)",
   "language": "python",
   "name": "python3"
  },
  "language_info": {
   "codemirror_mode": {
    "name": "ipython",
    "version": 3
   },
   "file_extension": ".py",
   "mimetype": "text/x-python",
   "name": "python",
   "nbconvert_exporter": "python",
   "pygments_lexer": "ipython3",
   "version": "3.9.7"
  }
 },
 "nbformat": 4,
 "nbformat_minor": 4
}
