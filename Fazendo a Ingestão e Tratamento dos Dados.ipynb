{
 "cells": [
  {
   "cell_type": "code",
   "execution_count": 1,
   "id": "d3a76188",
   "metadata": {},
   "outputs": [],
   "source": [
    "#links uteis:\n",
    "#https://docs.sqlalchemy.org/en/20/core/connections.html#sqlalchemy.engine.Connection\n",
    "#https://pandas.pydata.org/docs/reference/api/pandas.DataFrame.to_sql.html"
   ]
  },
  {
   "cell_type": "markdown",
   "id": "23e647b7",
   "metadata": {},
   "source": [
    "# Importando Bibliotecas "
   ]
  },
  {
   "cell_type": "code",
   "execution_count": 2,
   "id": "6cb0e7f7",
   "metadata": {},
   "outputs": [],
   "source": [
    "#importando bibliotecas\n",
    "import pandas as pd\n",
    "from sqlalchemy import create_engine\n",
    "from datetime import datetime\n",
    "import numpy as np\n",
    "#from google.cloud import bigquery"
   ]
  },
  {
   "cell_type": "markdown",
   "id": "5518d34a",
   "metadata": {},
   "source": [
    "# Criando conexão com o Banco para Extração"
   ]
  },
  {
   "cell_type": "code",
   "execution_count": 3,
   "id": "126ec54b",
   "metadata": {},
   "outputs": [],
   "source": [
    "# Dados da conexão\n",
    "server = 'DESKTOP-LD5D6LA'\n",
    "database = 'MestreElectronics'\n",
    "driver = 'SQL Server'\n",
    "conn_str = f'mssql+pyodbc://{server}/{database}?driver={driver}'\n",
    "\n",
    "# Criar uma conexão SQLAlchemy\n",
    "conexao = create_engine(conn_str)"
   ]
  },
  {
   "cell_type": "markdown",
   "id": "3448b0eb",
   "metadata": {},
   "source": [
    "# Lendo os dados"
   ]
  },
  {
   "cell_type": "code",
   "execution_count": 4,
   "id": "6d1cb970",
   "metadata": {},
   "outputs": [],
   "source": [
    "#Lendo as Tabelas e colocando em DataFrames\n",
    "produtos_df = pd.read_sql('SELECT * FROM Product',conexao)\n",
    "prod_category_df = pd.read_sql('SELECT * FROM ProductCategory',conexao)\n",
    "prod_subcategory_df = pd.read_sql('SELECT * FROM ProductSubcategory',conexao)\n",
    "\n",
    "cliente_df = pd.read_sql('SELECT * FROM Customer',conexao)\n",
    "localidade_df = pd.read_sql('SELECT * FROM Geography',conexao)\n",
    "\n",
    "vendas_df = pd.read_sql('SELECT * FROM Sales',conexao)\n",
    "vendas_on_df = pd.read_sql('SELECT * FROM OnlineSales',conexao)\n",
    "\n",
    "lojas_df = pd.read_sql('SELECT * FROM Store',conexao)\n",
    "estoque_df = pd.read_sql('SELECT * FROM Inventory',conexao)\n",
    "funcionarios_df = pd.read_sql('SELECT * FROM Employee',conexao)\n",
    "\n",
    "canal_df = pd.read_sql('SELECT * FROM Channel',conexao)"
   ]
  },
  {
   "cell_type": "markdown",
   "id": "be02baa0",
   "metadata": {},
   "source": [
    "# Dimensão Produto"
   ]
  },
  {
   "cell_type": "code",
   "execution_count": 5,
   "id": "cc38496e",
   "metadata": {},
   "outputs": [],
   "source": [
    "#DIM_PRODUTOS\n",
    "produtos_df = produtos_df.merge(prod_subcategory_df)"
   ]
  },
  {
   "cell_type": "code",
   "execution_count": 6,
   "id": "be9cf078",
   "metadata": {},
   "outputs": [],
   "source": [
    "produtos_df = produtos_df.merge(prod_category_df)"
   ]
  },
  {
   "cell_type": "code",
   "execution_count": 7,
   "id": "d2215320",
   "metadata": {},
   "outputs": [],
   "source": [
    "#Excluir Colunas\n",
    "#colunas_para_excluir = ['ProductDescription', 'ColorName']\n",
    "#produtos_df = produtos_df.drop(columns= colunas_para_excluir)"
   ]
  },
  {
   "cell_type": "code",
   "execution_count": 8,
   "id": "bba060c6",
   "metadata": {},
   "outputs": [],
   "source": [
    "#Manter Colunas\n",
    "produtos_df = produtos_df[['ProductKey','ProductName','BrandName','ClassName','ProductSubcategoryName','ProductCategoryName']]\n"
   ]
  },
  {
   "cell_type": "code",
   "execution_count": 9,
   "id": "4ce7219d",
   "metadata": {},
   "outputs": [],
   "source": [
    "#DIM_PRODUTOS\n",
    "#display(produtos_df.head(3))"
   ]
  },
  {
   "cell_type": "markdown",
   "id": "620e5691",
   "metadata": {},
   "source": [
    "# Dimensão Cliente"
   ]
  },
  {
   "cell_type": "code",
   "execution_count": 10,
   "id": "d1b5bcfd",
   "metadata": {},
   "outputs": [],
   "source": [
    "#DIM_CLIENTE\n",
    "cliente_df = cliente_df.merge(localidade_df)"
   ]
  },
  {
   "cell_type": "code",
   "execution_count": 11,
   "id": "101873a1",
   "metadata": {},
   "outputs": [],
   "source": [
    "#Concatenando Colunas\n",
    "cliente_df['FullName'] = cliente_df['FirstName'] + ' ' + cliente_df['LastName']"
   ]
  },
  {
   "cell_type": "code",
   "execution_count": 12,
   "id": "49899df9",
   "metadata": {},
   "outputs": [],
   "source": [
    "#Convertendo coluna para o Formato de Data\n",
    "cliente_df['BirthDate'] = pd.to_datetime(cliente_df['BirthDate'])"
   ]
  },
  {
   "cell_type": "code",
   "execution_count": 13,
   "id": "91362e97",
   "metadata": {},
   "outputs": [],
   "source": [
    "#Função para calcular a idade\n",
    "def calcular_idade(BirthDate):\n",
    "    hoje = datetime.today()\n",
    "    return hoje.year - BirthDate.year - ((hoje.month, hoje.day) < (BirthDate.month, BirthDate.day))"
   ]
  },
  {
   "cell_type": "code",
   "execution_count": 14,
   "id": "4db2c326",
   "metadata": {},
   "outputs": [],
   "source": [
    "#Aplicando a Função ao Dataframe e Criando a coluna de idade\n",
    "cliente_df['Idade'] = cliente_df['BirthDate'].apply(calcular_idade)"
   ]
  },
  {
   "cell_type": "code",
   "execution_count": 15,
   "id": "83d854bf",
   "metadata": {},
   "outputs": [],
   "source": [
    "#Criando uma nova coluna com condição\n",
    "cliente_df['CustomerName'] = np.where(cliente_df['CustomerType'] == 'Person', cliente_df['FullName'], cliente_df['CompanyName'])"
   ]
  },
  {
   "cell_type": "code",
   "execution_count": 16,
   "id": "4a957fdf",
   "metadata": {},
   "outputs": [],
   "source": [
    "#Excluir Colunas\n",
    "colunas_para_excluir = ['GeographyKey', 'FirstName', 'LastName', 'BirthDate', 'CompanyName', 'GeographyType','StateProvinceName','FullName']\n",
    "cliente_df = cliente_df.drop(columns= colunas_para_excluir)"
   ]
  },
  {
   "cell_type": "code",
   "execution_count": 17,
   "id": "7c598c5a",
   "metadata": {},
   "outputs": [],
   "source": [
    "#DIM_CLIENTE\n",
    "#display(cliente_df.head(4))"
   ]
  },
  {
   "cell_type": "markdown",
   "id": "2c5fe753",
   "metadata": {},
   "source": [
    "# Fato Vendas"
   ]
  },
  {
   "cell_type": "code",
   "execution_count": 18,
   "id": "fc4a8219",
   "metadata": {},
   "outputs": [],
   "source": [
    "#FT_VENDAS\n",
    "#Converter os Tipos de Dados e mesclando\n",
    "canal_df['ChannelLabel'] = canal_df['ChannelLabel'].astype(int)\n",
    "\n",
    "vendas_df = vendas_df.merge(canal_df, left_on = 'channelKey', right_on = 'ChannelLabel')"
   ]
  },
  {
   "cell_type": "code",
   "execution_count": 19,
   "id": "ce251073",
   "metadata": {},
   "outputs": [],
   "source": [
    "vendas_df = vendas_df.drop(columns = ['UpdateDate','LoadDate','ETLLoadID','ChannelLabel','ChannelDescription','ChannelKey','channelKey'])"
   ]
  },
  {
   "cell_type": "code",
   "execution_count": 20,
   "id": "b057352b",
   "metadata": {},
   "outputs": [],
   "source": [
    "#FT_VENDAS\n",
    "#display(vendas_df.head(5))"
   ]
  },
  {
   "cell_type": "markdown",
   "id": "b3464ed8",
   "metadata": {},
   "source": [
    "# Fato Vendas Online"
   ]
  },
  {
   "cell_type": "code",
   "execution_count": 21,
   "id": "5102f3cc",
   "metadata": {},
   "outputs": [
    {
     "data": {
      "text/html": [
       "<div>\n",
       "<style scoped>\n",
       "    .dataframe tbody tr th:only-of-type {\n",
       "        vertical-align: middle;\n",
       "    }\n",
       "\n",
       "    .dataframe tbody tr th {\n",
       "        vertical-align: top;\n",
       "    }\n",
       "\n",
       "    .dataframe thead th {\n",
       "        text-align: right;\n",
       "    }\n",
       "</style>\n",
       "<table border=\"1\" class=\"dataframe\">\n",
       "  <thead>\n",
       "    <tr style=\"text-align: right;\">\n",
       "      <th></th>\n",
       "      <th>OnlineSalesKey</th>\n",
       "      <th>DateOrder</th>\n",
       "      <th>DateShip</th>\n",
       "      <th>ProductKey</th>\n",
       "      <th>StoreKey</th>\n",
       "      <th>CustomerKey</th>\n",
       "      <th>SalesOrderNumber</th>\n",
       "      <th>UnitCost</th>\n",
       "      <th>UnitPrice</th>\n",
       "      <th>SalesQuantity</th>\n",
       "      <th>DiscountAmount</th>\n",
       "      <th>SalesAmount</th>\n",
       "      <th>TotalCost</th>\n",
       "    </tr>\n",
       "  </thead>\n",
       "  <tbody>\n",
       "    <tr>\n",
       "      <th>0</th>\n",
       "      <td>20832</td>\n",
       "      <td>2017-07-09</td>\n",
       "      <td>2017-07-22</td>\n",
       "      <td>8</td>\n",
       "      <td>199</td>\n",
       "      <td>3089</td>\n",
       "      <td>20070709214088</td>\n",
       "      <td>30.58</td>\n",
       "      <td>59.99</td>\n",
       "      <td>1</td>\n",
       "      <td>6.0</td>\n",
       "      <td>53.99</td>\n",
       "      <td>30.58</td>\n",
       "    </tr>\n",
       "    <tr>\n",
       "      <th>1</th>\n",
       "      <td>20833</td>\n",
       "      <td>2017-07-09</td>\n",
       "      <td>2017-07-22</td>\n",
       "      <td>684</td>\n",
       "      <td>199</td>\n",
       "      <td>18789</td>\n",
       "      <td>200707093CS466</td>\n",
       "      <td>73.58</td>\n",
       "      <td>160.00</td>\n",
       "      <td>7</td>\n",
       "      <td>112.0</td>\n",
       "      <td>1008.00</td>\n",
       "      <td>515.06</td>\n",
       "    </tr>\n",
       "  </tbody>\n",
       "</table>\n",
       "</div>"
      ],
      "text/plain": [
       "   OnlineSalesKey  DateOrder   DateShip  ProductKey  StoreKey  CustomerKey  \\\n",
       "0           20832 2017-07-09 2017-07-22           8       199         3089   \n",
       "1           20833 2017-07-09 2017-07-22         684       199        18789   \n",
       "\n",
       "  SalesOrderNumber  UnitCost  UnitPrice  SalesQuantity  DiscountAmount  \\\n",
       "0   20070709214088     30.58      59.99              1             6.0   \n",
       "1   200707093CS466     73.58     160.00              7           112.0   \n",
       "\n",
       "   SalesAmount  TotalCost  \n",
       "0        53.99      30.58  \n",
       "1      1008.00     515.06  "
      ]
     },
     "metadata": {},
     "output_type": "display_data"
    }
   ],
   "source": [
    "#FT_VENDAS_ONLINE\n",
    "display(vendas_on_df.head(2))"
   ]
  },
  {
   "cell_type": "markdown",
   "id": "13b9037b",
   "metadata": {},
   "source": [
    "# Dimensão Loja"
   ]
  },
  {
   "cell_type": "code",
   "execution_count": 22,
   "id": "ec19dee2",
   "metadata": {},
   "outputs": [],
   "source": [
    "#DIM_LOJA\n",
    "lojas_df = lojas_df.merge(localidade_df)\n"
   ]
  },
  {
   "cell_type": "code",
   "execution_count": 23,
   "id": "3e05de7d",
   "metadata": {},
   "outputs": [],
   "source": [
    "#DIM_LOJA\n",
    "#Manter Coluna\n",
    "lojas_df =lojas_df[['StoreKey','StoreManager','StoreType','StoreName','EmployeeCount','ContinentName','CityName','RegionCountryName']]\n",
    "#display(lojas_df.head(5))"
   ]
  },
  {
   "cell_type": "markdown",
   "id": "ead37472",
   "metadata": {},
   "source": [
    "# Dimensão Funcionario"
   ]
  },
  {
   "cell_type": "code",
   "execution_count": 24,
   "id": "84ca4617",
   "metadata": {},
   "outputs": [],
   "source": [
    "#DIM_FUNCIONARIO\n",
    "#Concatenando colunas\n",
    "funcionarios_df['FullName'] = funcionarios_df['FirstName'] + ' ' + funcionarios_df['LastName']"
   ]
  },
  {
   "cell_type": "code",
   "execution_count": 25,
   "id": "482eef6c",
   "metadata": {},
   "outputs": [],
   "source": [
    "#Convertendo Dados\n",
    "funcionarios_df['StartDate'] = pd.to_datetime(funcionarios_df['StartDate'])\n",
    "funcionarios_df['EndDate'] = pd.to_datetime(funcionarios_df['EndDate'])"
   ]
  },
  {
   "cell_type": "code",
   "execution_count": 26,
   "id": "a2c57bf8",
   "metadata": {},
   "outputs": [],
   "source": [
    "#Substituindo valores NULO pela data Atual na Colua de EndDat\n",
    "funcionarios_df['EndDate'] = funcionarios_df['EndDate'].fillna(pd.Timestamp('today')).dt.normalize()"
   ]
  },
  {
   "cell_type": "code",
   "execution_count": 27,
   "id": "c6ebfb26",
   "metadata": {},
   "outputs": [],
   "source": [
    "# Calculando a duração\n",
    "funcionarios_df['Duration'] = funcionarios_df['EndDate'] - funcionarios_df['StartDate']\n",
    "funcionarios_df['Duration_in_Days'] = funcionarios_df['Duration'].dt.days"
   ]
  },
  {
   "cell_type": "code",
   "execution_count": 28,
   "id": "76294c61",
   "metadata": {},
   "outputs": [],
   "source": [
    "funcionarios_df = funcionarios_df.drop(columns = ['FirstName','LastName','Duration'])"
   ]
  },
  {
   "cell_type": "code",
   "execution_count": 29,
   "id": "a2b05ca3",
   "metadata": {},
   "outputs": [],
   "source": [
    "#display(funcionarios_df.head(4))"
   ]
  },
  {
   "cell_type": "markdown",
   "id": "c24d1f25",
   "metadata": {},
   "source": [
    "# Fato Estoque"
   ]
  },
  {
   "cell_type": "code",
   "execution_count": 30,
   "id": "c23f8801",
   "metadata": {
    "scrolled": true
   },
   "outputs": [
    {
     "data": {
      "text/html": [
       "<div>\n",
       "<style scoped>\n",
       "    .dataframe tbody tr th:only-of-type {\n",
       "        vertical-align: middle;\n",
       "    }\n",
       "\n",
       "    .dataframe tbody tr th {\n",
       "        vertical-align: top;\n",
       "    }\n",
       "\n",
       "    .dataframe thead th {\n",
       "        text-align: right;\n",
       "    }\n",
       "</style>\n",
       "<table border=\"1\" class=\"dataframe\">\n",
       "  <thead>\n",
       "    <tr style=\"text-align: right;\">\n",
       "      <th></th>\n",
       "      <th>InventoryKey</th>\n",
       "      <th>DateKey</th>\n",
       "      <th>StoreKey</th>\n",
       "      <th>ProductKey</th>\n",
       "      <th>OnHandQuantity</th>\n",
       "      <th>OnOrderQuantity</th>\n",
       "      <th>SafetyStockQuantity</th>\n",
       "      <th>UnitCost</th>\n",
       "      <th>DaysInStock</th>\n",
       "      <th>MinDayInStock</th>\n",
       "      <th>MaxDayInStock</th>\n",
       "    </tr>\n",
       "  </thead>\n",
       "  <tbody>\n",
       "    <tr>\n",
       "      <th>0</th>\n",
       "      <td>56961</td>\n",
       "      <td>2017-05-19</td>\n",
       "      <td>294</td>\n",
       "      <td>1141</td>\n",
       "      <td>9</td>\n",
       "      <td>0</td>\n",
       "      <td>3</td>\n",
       "      <td>144.52</td>\n",
       "      <td>8</td>\n",
       "      <td>33</td>\n",
       "      <td>85</td>\n",
       "    </tr>\n",
       "    <tr>\n",
       "      <th>1</th>\n",
       "      <td>56962</td>\n",
       "      <td>2017-06-16</td>\n",
       "      <td>53</td>\n",
       "      <td>1530</td>\n",
       "      <td>10</td>\n",
       "      <td>0</td>\n",
       "      <td>18</td>\n",
       "      <td>122.32</td>\n",
       "      <td>11</td>\n",
       "      <td>7</td>\n",
       "      <td>60</td>\n",
       "    </tr>\n",
       "  </tbody>\n",
       "</table>\n",
       "</div>"
      ],
      "text/plain": [
       "   InventoryKey    DateKey  StoreKey  ProductKey  OnHandQuantity  \\\n",
       "0         56961 2017-05-19       294        1141               9   \n",
       "1         56962 2017-06-16        53        1530              10   \n",
       "\n",
       "   OnOrderQuantity  SafetyStockQuantity  UnitCost  DaysInStock  MinDayInStock  \\\n",
       "0                0                    3    144.52            8             33   \n",
       "1                0                   18    122.32           11              7   \n",
       "\n",
       "   MaxDayInStock  \n",
       "0             85  \n",
       "1             60  "
      ]
     },
     "metadata": {},
     "output_type": "display_data"
    }
   ],
   "source": [
    "display(estoque_df.head(2))"
   ]
  },
  {
   "cell_type": "markdown",
   "id": "8b9e5862",
   "metadata": {},
   "source": [
    "# Conectando no Dados no Banco que vamos Inserir os Dados"
   ]
  },
  {
   "cell_type": "code",
   "execution_count": 31,
   "id": "e383ee5f",
   "metadata": {},
   "outputs": [
    {
     "data": {
      "text/plain": [
       "<sqlalchemy.engine.cursor.LegacyCursorResult at 0x1dca5f49670>"
      ]
     },
     "execution_count": 31,
     "metadata": {},
     "output_type": "execute_result"
    }
   ],
   "source": [
    "# Criar banco de dados (se necessário)\n",
    "conexao.execute(\"IF NOT EXISTS(SELECT * FROM sys.databases WHERE name='DataWarehouse') CREATE DATABASE DataWarehouse\")\n"
   ]
  },
  {
   "cell_type": "code",
   "execution_count": 32,
   "id": "885f7d00",
   "metadata": {},
   "outputs": [],
   "source": [
    "# Conectando ao banco de Dados da Inserção\n",
    "server = 'DESKTOP-LD5D6LA'\n",
    "database = 'DataWarehouse'\n",
    "driver = 'SQL Server'\n",
    "conn_str_dw = f'mssql+pyodbc://{server}/{database}?driver={driver}'\n",
    "\n",
    "# Criar uma conexão SQLAlchemy\n",
    "conexao_dw  = create_engine(conn_str_dw)"
   ]
  },
  {
   "cell_type": "markdown",
   "id": "67a5e12a",
   "metadata": {},
   "source": [
    "# Inserindo os Dados"
   ]
  },
  {
   "cell_type": "code",
   "execution_count": 33,
   "id": "06834019",
   "metadata": {},
   "outputs": [
    {
     "data": {
      "text/plain": [
       "-1"
      ]
     },
     "execution_count": 33,
     "metadata": {},
     "output_type": "execute_result"
    }
   ],
   "source": [
    "#Inserindo dados de Produtos\n",
    "produtos_df.to_sql('DIM_Produto', con=conexao_dw, index=False, if_exists='replace')"
   ]
  },
  {
   "cell_type": "code",
   "execution_count": 34,
   "id": "946230e1",
   "metadata": {},
   "outputs": [
    {
     "data": {
      "text/plain": [
       "-1"
      ]
     },
     "execution_count": 34,
     "metadata": {},
     "output_type": "execute_result"
    }
   ],
   "source": [
    "#Inserindo dados de Clientes\n",
    "cliente_df.to_sql('DIM_Cliente', con=conexao_dw, index=False, if_exists='replace')"
   ]
  },
  {
   "cell_type": "code",
   "execution_count": 35,
   "id": "232c043d",
   "metadata": {},
   "outputs": [
    {
     "data": {
      "text/plain": [
       "-1"
      ]
     },
     "execution_count": 35,
     "metadata": {},
     "output_type": "execute_result"
    }
   ],
   "source": [
    "#Inserindo dados de Lojas\n",
    "lojas_df.to_sql('DIM_Lojas', con=conexao_dw, index=False, if_exists='replace')"
   ]
  },
  {
   "cell_type": "code",
   "execution_count": 36,
   "id": "f5b49d8b",
   "metadata": {},
   "outputs": [
    {
     "data": {
      "text/plain": [
       "-1"
      ]
     },
     "execution_count": 36,
     "metadata": {},
     "output_type": "execute_result"
    }
   ],
   "source": [
    "#Inserindo dados de Funcionarios\n",
    "funcionarios_df.to_sql('DIM_Funcionarios', con=conexao_dw, index=False, if_exists='replace')"
   ]
  },
  {
   "cell_type": "code",
   "execution_count": 37,
   "id": "407c655c",
   "metadata": {},
   "outputs": [
    {
     "data": {
      "text/plain": [
       "-1"
      ]
     },
     "execution_count": 37,
     "metadata": {},
     "output_type": "execute_result"
    }
   ],
   "source": [
    "#Inserindo dados de Vendas\n",
    "vendas_df.to_sql('FT_Vendas', con=conexao_dw, index=False, if_exists='replace')"
   ]
  },
  {
   "cell_type": "code",
   "execution_count": 38,
   "id": "cc6187c6",
   "metadata": {},
   "outputs": [
    {
     "data": {
      "text/plain": [
       "-1"
      ]
     },
     "execution_count": 38,
     "metadata": {},
     "output_type": "execute_result"
    }
   ],
   "source": [
    "#Inserindo dados de Vendas_Online\n",
    "vendas_on_df.to_sql('FT_Vendas_Online', con=conexao_dw, index=False, if_exists='replace')"
   ]
  },
  {
   "cell_type": "code",
   "execution_count": 39,
   "id": "cb4af7cc",
   "metadata": {},
   "outputs": [
    {
     "data": {
      "text/plain": [
       "-1"
      ]
     },
     "execution_count": 39,
     "metadata": {},
     "output_type": "execute_result"
    }
   ],
   "source": [
    "#Inserindo dados de Estoque\n",
    "estoque_df.to_sql('FT_Estoque', con=conexao_dw, index=False, if_exists='replace')"
   ]
  }
 ],
 "metadata": {
  "kernelspec": {
   "display_name": "Python 3 (ipykernel)",
   "language": "python",
   "name": "python3"
  },
  "language_info": {
   "codemirror_mode": {
    "name": "ipython",
    "version": 3
   },
   "file_extension": ".py",
   "mimetype": "text/x-python",
   "name": "python",
   "nbconvert_exporter": "python",
   "pygments_lexer": "ipython3",
   "version": "3.9.13"
  }
 },
 "nbformat": 4,
 "nbformat_minor": 5
}
