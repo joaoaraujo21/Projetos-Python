{
 "cells": [
  {
   "cell_type": "code",
   "execution_count": 1,
   "id": "9dd673f2",
   "metadata": {},
   "outputs": [],
   "source": [
    "#Links Uteis:\n",
    "#https://docs.microsoft.com/pt-br/sql/connect/python/pyodbc/python-sql-driver-pyodbc?view=sql-server-ver15\n",
    "#https://docs.microsoft.com/pt-br/sql/machine-learning/data-exploration/python-dataframe-sql-server?view=sql-server-ver15"
   ]
  },
  {
   "cell_type": "code",
   "execution_count": 2,
   "id": "36c475e0",
   "metadata": {},
   "outputs": [],
   "source": [
    "#Importando Bibliotecas\n",
    "import pyodbc\n",
    "import pandas as pd"
   ]
  },
  {
   "cell_type": "code",
   "execution_count": 3,
   "id": "071751bf",
   "metadata": {},
   "outputs": [],
   "source": [
    "#Fazendo a conexao com o banco que vou extrair os dados \n",
    "dados_conexao =(\n",
    "    \"Driver={SQL Server};\"\n",
    "    \"Server=DESKTOP-0O9J9LL;\"\n",
    "    \"Database=MestreElectronics;\"\n",
    "    )\n",
    "\n",
    "conexao = pyodbc.connect(dados_conexao)"
   ]
  },
  {
   "cell_type": "markdown",
   "id": "b945dddd",
   "metadata": {},
   "source": [
    "# Criando Dimensão de Produto"
   ]
  },
  {
   "cell_type": "code",
   "execution_count": 4,
   "id": "5abcb646",
   "metadata": {},
   "outputs": [],
   "source": [
    "#Lendo as tabelas do banco com o pandas\n",
    "produto_df = pd.read_sql('SELECT * FROM MestreElectronics.dbo.product', conexao)\n",
    "categoria_df = pd.read_sql('SELECT * FROM MestreElectronics.dbo.productcategory', conexao)\n",
    "subcategoria_df = pd.read_sql('SELECT * FROM MestreElectronics.dbo.productsubcategory', conexao)"
   ]
  },
  {
   "cell_type": "code",
   "execution_count": 5,
   "id": "df11eb2c",
   "metadata": {},
   "outputs": [],
   "source": [
    "#Mesclando as tabelas com as informações uteis\n",
    "produto_df = produto_df[['ProductKey', 'ProductName', 'ProductSubcategoryKey', 'BrandName', 'ClassName']].merge(subcategoria_df)\n",
    "produto_df = produto_df.merge(categoria_df)"
   ]
  },
  {
   "cell_type": "code",
   "execution_count": 6,
   "id": "5233ba72",
   "metadata": {},
   "outputs": [],
   "source": [
    "#Deletando colunas chaves que não serão mais utilizadas \n",
    "produto_df = produto_df.drop(['ProductSubcategoryKey', 'ProductCategoryKey'], axis = 1)"
   ]
  },
  {
   "cell_type": "code",
   "execution_count": 7,
   "id": "157c606a",
   "metadata": {},
   "outputs": [],
   "source": [
    "#Criando cursor (Necessario para executar consultas em SQL)\n",
    "cursor = conexao.cursor()"
   ]
  },
  {
   "cell_type": "code",
   "execution_count": 8,
   "id": "35ea47de",
   "metadata": {},
   "outputs": [],
   "source": [
    "#Tratativa de erro para quando rodar o codigo\n",
    "deletar_tabela = 'USE DW_MestreElectronics drop table DM_Produto'\n",
    "cursor.execute(deletar_tabela)\n",
    "cursor.commit()"
   ]
  },
  {
   "cell_type": "code",
   "execution_count": 9,
   "id": "4b510ed9",
   "metadata": {},
   "outputs": [],
   "source": [
    "#Criação do banco de dados, e comentei o codigo para não ficar criando toda vez que roda\n",
    "#criar_database = 'CREATE DATABASE DW_MestreElectronics'\n",
    "#cursor.execute(criar_database)\n",
    "#cursor.commit()"
   ]
  },
  {
   "cell_type": "code",
   "execution_count": 10,
   "id": "b24895ad",
   "metadata": {},
   "outputs": [],
   "source": [
    "#Criando tabela Dimensão Produto\n",
    "criar_tabela = '''USE DW_MestreElectronics\n",
    "CREATE TABLE DM_Produto(\n",
    "    ProductKey int,\n",
    "    ProductName varchar(100),\n",
    "    BrandName varchar(50),\n",
    "    ClassName varchar(50),\n",
    "    ProductSubcategoryName varchar(50),\n",
    "    ProductCategoryName varchar(50) )'''\n",
    "\n",
    "cursor.execute(criar_tabela)\n",
    "cursor.commit()"
   ]
  },
  {
   "cell_type": "code",
   "execution_count": 11,
   "id": "97959658",
   "metadata": {},
   "outputs": [],
   "source": [
    "# Para inserir linha por linha na tabela que eu criei no banco de dados\n",
    "for index, row in produto_df.iterrows():\n",
    "     cursor.execute(''' USE DW_MestreElectronics\n",
    "     INSERT INTO DM_Produto (ProductKey,ProductName,BrandName,ClassName,ProductSubcategoryName,ProductCategoryName) \n",
    "     values(?,?,?,?,?,?)''', row.ProductKey, row.ProductName, row.BrandName, row.ClassName, row.ProductSubcategoryName, row.ProductCategoryName)\n",
    "\n",
    "cursor.commit()"
   ]
  },
  {
   "cell_type": "markdown",
   "id": "f08617e0",
   "metadata": {},
   "source": [
    "# Criando Dimensão de Cliente"
   ]
  },
  {
   "cell_type": "code",
   "execution_count": 12,
   "id": "3fddb04f",
   "metadata": {},
   "outputs": [],
   "source": [
    "clientes_df  = pd.read_sql('SELECT * FROM MestreElectronics.dbo.Customer', conexao)\n",
    "paises_df = pd.read_sql('SELECT * FROM MestreElectronics.dbo.Geography', conexao)"
   ]
  },
  {
   "cell_type": "code",
   "execution_count": 14,
   "id": "176e1710",
   "metadata": {},
   "outputs": [],
   "source": [
    "# Concatenando os nomes dos clientes em uma unica coluna \n",
    "clientes_df['NomeCompleto'] = clientes_df['FirstName'].str.cat(clientes_df['LastName'],sep=\" \")\n",
    "#deletando colunas\n",
    "clientes_df = clientes_df.drop(['FirstName', 'LastName','MaritalStatus','EmailAddress','Education'], axis = 1)\n",
    "#Deletando Colunas\n",
    "paises_df = paises_df.drop(['GeographyType','CityName'], axis = 1)"
   ]
  },
  {
   "cell_type": "code",
   "execution_count": 32,
   "id": "94688ff7",
   "metadata": {},
   "outputs": [],
   "source": [
    "clientes_df = clientes_df.merge(paises_df)"
   ]
  },
  {
   "cell_type": "code",
   "execution_count": 34,
   "id": "d1446400",
   "metadata": {},
   "outputs": [],
   "source": [
    "clientes_df = clientes_df.drop('GeographyKey', axis = 1)"
   ]
  },
  {
   "cell_type": "code",
   "execution_count": 35,
   "id": "dc92f1db",
   "metadata": {},
   "outputs": [
    {
     "data": {
      "text/html": [
       "<div>\n",
       "<style scoped>\n",
       "    .dataframe tbody tr th:only-of-type {\n",
       "        vertical-align: middle;\n",
       "    }\n",
       "\n",
       "    .dataframe tbody tr th {\n",
       "        vertical-align: top;\n",
       "    }\n",
       "\n",
       "    .dataframe thead th {\n",
       "        text-align: right;\n",
       "    }\n",
       "</style>\n",
       "<table border=\"1\" class=\"dataframe\">\n",
       "  <thead>\n",
       "    <tr style=\"text-align: right;\">\n",
       "      <th></th>\n",
       "      <th>CustomerKey</th>\n",
       "      <th>BirthDate</th>\n",
       "      <th>Gender</th>\n",
       "      <th>Occupation</th>\n",
       "      <th>CustomerType</th>\n",
       "      <th>CompanyName</th>\n",
       "      <th>NomeCompleto</th>\n",
       "      <th>ContinentName</th>\n",
       "      <th>StateProvinceName</th>\n",
       "      <th>RegionCountryName</th>\n",
       "    </tr>\n",
       "  </thead>\n",
       "  <tbody>\n",
       "    <tr>\n",
       "      <th>0</th>\n",
       "      <td>9896</td>\n",
       "      <td>1966-12-11</td>\n",
       "      <td>M</td>\n",
       "      <td>Clerical</td>\n",
       "      <td>Person</td>\n",
       "      <td>None</td>\n",
       "      <td>Ruben Jimenez</td>\n",
       "      <td>Europe</td>\n",
       "      <td>Seine (Paris)</td>\n",
       "      <td>France</td>\n",
       "    </tr>\n",
       "    <tr>\n",
       "      <th>1</th>\n",
       "      <td>9911</td>\n",
       "      <td>1966-02-21</td>\n",
       "      <td>F</td>\n",
       "      <td>Professional</td>\n",
       "      <td>Person</td>\n",
       "      <td>None</td>\n",
       "      <td>Carolyn Malhotra</td>\n",
       "      <td>Europe</td>\n",
       "      <td>Seine (Paris)</td>\n",
       "      <td>France</td>\n",
       "    </tr>\n",
       "    <tr>\n",
       "      <th>2</th>\n",
       "      <td>9912</td>\n",
       "      <td>1966-08-02</td>\n",
       "      <td>F</td>\n",
       "      <td>Professional</td>\n",
       "      <td>Person</td>\n",
       "      <td>None</td>\n",
       "      <td>Katrina Raje</td>\n",
       "      <td>Europe</td>\n",
       "      <td>Seine (Paris)</td>\n",
       "      <td>France</td>\n",
       "    </tr>\n",
       "    <tr>\n",
       "      <th>3</th>\n",
       "      <td>9936</td>\n",
       "      <td>1977-10-14</td>\n",
       "      <td>F</td>\n",
       "      <td>Clerical</td>\n",
       "      <td>Person</td>\n",
       "      <td>None</td>\n",
       "      <td>Desiree Jimenez</td>\n",
       "      <td>Europe</td>\n",
       "      <td>Seine (Paris)</td>\n",
       "      <td>France</td>\n",
       "    </tr>\n",
       "    <tr>\n",
       "      <th>4</th>\n",
       "      <td>9961</td>\n",
       "      <td>1962-03-05</td>\n",
       "      <td>M</td>\n",
       "      <td>Clerical</td>\n",
       "      <td>Person</td>\n",
       "      <td>None</td>\n",
       "      <td>Darrell Beck</td>\n",
       "      <td>Europe</td>\n",
       "      <td>Seine (Paris)</td>\n",
       "      <td>France</td>\n",
       "    </tr>\n",
       "    <tr>\n",
       "      <th>...</th>\n",
       "      <td>...</td>\n",
       "      <td>...</td>\n",
       "      <td>...</td>\n",
       "      <td>...</td>\n",
       "      <td>...</td>\n",
       "      <td>...</td>\n",
       "      <td>...</td>\n",
       "      <td>...</td>\n",
       "      <td>...</td>\n",
       "      <td>...</td>\n",
       "    </tr>\n",
       "    <tr>\n",
       "      <th>18864</th>\n",
       "      <td>19141</td>\n",
       "      <td>None</td>\n",
       "      <td>None</td>\n",
       "      <td>None</td>\n",
       "      <td>Company</td>\n",
       "      <td>ThimphuCompany</td>\n",
       "      <td>NaN</td>\n",
       "      <td>Asia</td>\n",
       "      <td>Thimphu District</td>\n",
       "      <td>Bhutan</td>\n",
       "    </tr>\n",
       "    <tr>\n",
       "      <th>18865</th>\n",
       "      <td>19142</td>\n",
       "      <td>None</td>\n",
       "      <td>None</td>\n",
       "      <td>None</td>\n",
       "      <td>Company</td>\n",
       "      <td>TokyoCompany</td>\n",
       "      <td>NaN</td>\n",
       "      <td>Asia</td>\n",
       "      <td>Kanto</td>\n",
       "      <td>Japan</td>\n",
       "    </tr>\n",
       "    <tr>\n",
       "      <th>18866</th>\n",
       "      <td>19143</td>\n",
       "      <td>None</td>\n",
       "      <td>None</td>\n",
       "      <td>None</td>\n",
       "      <td>Company</td>\n",
       "      <td>UrumqiCompany</td>\n",
       "      <td>NaN</td>\n",
       "      <td>Asia</td>\n",
       "      <td>Xinjiang</td>\n",
       "      <td>China</td>\n",
       "    </tr>\n",
       "    <tr>\n",
       "      <th>18867</th>\n",
       "      <td>19144</td>\n",
       "      <td>None</td>\n",
       "      <td>None</td>\n",
       "      <td>None</td>\n",
       "      <td>Company</td>\n",
       "      <td>YerevanCompany</td>\n",
       "      <td>NaN</td>\n",
       "      <td>Asia</td>\n",
       "      <td>Armenia</td>\n",
       "      <td>Armenia</td>\n",
       "    </tr>\n",
       "    <tr>\n",
       "      <th>18868</th>\n",
       "      <td>19145</td>\n",
       "      <td>None</td>\n",
       "      <td>None</td>\n",
       "      <td>None</td>\n",
       "      <td>Company</td>\n",
       "      <td>Yokohama Company</td>\n",
       "      <td>NaN</td>\n",
       "      <td>Asia</td>\n",
       "      <td>Kanto</td>\n",
       "      <td>Japan</td>\n",
       "    </tr>\n",
       "  </tbody>\n",
       "</table>\n",
       "<p>18869 rows × 10 columns</p>\n",
       "</div>"
      ],
      "text/plain": [
       "       CustomerKey   BirthDate Gender    Occupation CustomerType  \\\n",
       "0             9896  1966-12-11      M      Clerical       Person   \n",
       "1             9911  1966-02-21      F  Professional       Person   \n",
       "2             9912  1966-08-02      F  Professional       Person   \n",
       "3             9936  1977-10-14      F      Clerical       Person   \n",
       "4             9961  1962-03-05      M      Clerical       Person   \n",
       "...            ...         ...    ...           ...          ...   \n",
       "18864        19141        None   None          None      Company   \n",
       "18865        19142        None   None          None      Company   \n",
       "18866        19143        None   None          None      Company   \n",
       "18867        19144        None   None          None      Company   \n",
       "18868        19145        None   None          None      Company   \n",
       "\n",
       "            CompanyName      NomeCompleto ContinentName StateProvinceName  \\\n",
       "0                  None     Ruben Jimenez        Europe     Seine (Paris)   \n",
       "1                  None  Carolyn Malhotra        Europe     Seine (Paris)   \n",
       "2                  None      Katrina Raje        Europe     Seine (Paris)   \n",
       "3                  None   Desiree Jimenez        Europe     Seine (Paris)   \n",
       "4                  None      Darrell Beck        Europe     Seine (Paris)   \n",
       "...                 ...               ...           ...               ...   \n",
       "18864    ThimphuCompany               NaN          Asia  Thimphu District   \n",
       "18865      TokyoCompany               NaN          Asia             Kanto   \n",
       "18866     UrumqiCompany               NaN          Asia          Xinjiang   \n",
       "18867    YerevanCompany               NaN          Asia           Armenia   \n",
       "18868  Yokohama Company               NaN          Asia             Kanto   \n",
       "\n",
       "      RegionCountryName  \n",
       "0                France  \n",
       "1                France  \n",
       "2                France  \n",
       "3                France  \n",
       "4                France  \n",
       "...                 ...  \n",
       "18864            Bhutan  \n",
       "18865             Japan  \n",
       "18866             China  \n",
       "18867           Armenia  \n",
       "18868             Japan  \n",
       "\n",
       "[18869 rows x 10 columns]"
      ]
     },
     "execution_count": 35,
     "metadata": {},
     "output_type": "execute_result"
    }
   ],
   "source": [
    "clientes_df"
   ]
  },
  {
   "cell_type": "code",
   "execution_count": 30,
   "id": "0b5b947e",
   "metadata": {},
   "outputs": [],
   "source": []
  }
 ],
 "metadata": {
  "kernelspec": {
   "display_name": "Python 3 (ipykernel)",
   "language": "python",
   "name": "python3"
  },
  "language_info": {
   "codemirror_mode": {
    "name": "ipython",
    "version": 3
   },
   "file_extension": ".py",
   "mimetype": "text/x-python",
   "name": "python",
   "nbconvert_exporter": "python",
   "pygments_lexer": "ipython3",
   "version": "3.9.7"
  }
 },
 "nbformat": 4,
 "nbformat_minor": 5
}
