{
 "cells": [
  {
   "cell_type": "code",
   "execution_count": 1,
   "id": "6f5898c2",
   "metadata": {},
   "outputs": [],
   "source": [
    "import pandas as pd\n",
    "import win32com.client as win32"
   ]
  },
  {
   "cell_type": "code",
   "execution_count": 2,
   "id": "325a9306",
   "metadata": {},
   "outputs": [
    {
     "data": {
      "text/html": [
       "<div>\n",
       "<style scoped>\n",
       "    .dataframe tbody tr th:only-of-type {\n",
       "        vertical-align: middle;\n",
       "    }\n",
       "\n",
       "    .dataframe tbody tr th {\n",
       "        vertical-align: top;\n",
       "    }\n",
       "\n",
       "    .dataframe thead th {\n",
       "        text-align: right;\n",
       "    }\n",
       "</style>\n",
       "<table border=\"1\" class=\"dataframe\">\n",
       "  <thead>\n",
       "    <tr style=\"text-align: right;\">\n",
       "      <th></th>\n",
       "      <th>Gerente</th>\n",
       "      <th>E-mail</th>\n",
       "      <th>Relatório</th>\n",
       "    </tr>\n",
       "  </thead>\n",
       "  <tbody>\n",
       "    <tr>\n",
       "      <th>0</th>\n",
       "      <td>Lira</td>\n",
       "      <td>joaogui21@hotmail.com</td>\n",
       "      <td>Vendas</td>\n",
       "    </tr>\n",
       "    <tr>\n",
       "      <th>1</th>\n",
       "      <td>Julia</td>\n",
       "      <td>joaogui21@hotmail.com</td>\n",
       "      <td>Produção</td>\n",
       "    </tr>\n",
       "    <tr>\n",
       "      <th>2</th>\n",
       "      <td>José</td>\n",
       "      <td>joaogui21@hotmail.com</td>\n",
       "      <td>Manutenção</td>\n",
       "    </tr>\n",
       "    <tr>\n",
       "      <th>3</th>\n",
       "      <td>Gustavo</td>\n",
       "      <td>joaogui21@hotmail.com</td>\n",
       "      <td>Operações</td>\n",
       "    </tr>\n",
       "    <tr>\n",
       "      <th>4</th>\n",
       "      <td>Ana</td>\n",
       "      <td>joaogui21@hotmail.com</td>\n",
       "      <td>Logística</td>\n",
       "    </tr>\n",
       "    <tr>\n",
       "      <th>5</th>\n",
       "      <td>Paula</td>\n",
       "      <td>joaogui21@hotmail.com</td>\n",
       "      <td>Financeiro</td>\n",
       "    </tr>\n",
       "    <tr>\n",
       "      <th>6</th>\n",
       "      <td>Maria</td>\n",
       "      <td>joaogui21@hotmail.com</td>\n",
       "      <td>Marketing</td>\n",
       "    </tr>\n",
       "  </tbody>\n",
       "</table>\n",
       "</div>"
      ],
      "text/plain": [
       "   Gerente                 E-mail   Relatório\n",
       "0     Lira  joaogui21@hotmail.com      Vendas\n",
       "1    Julia  joaogui21@hotmail.com    Produção\n",
       "2     José  joaogui21@hotmail.com  Manutenção\n",
       "3  Gustavo  joaogui21@hotmail.com   Operações\n",
       "4      Ana  joaogui21@hotmail.com   Logística\n",
       "5    Paula  joaogui21@hotmail.com  Financeiro\n",
       "6    Maria  joaogui21@hotmail.com   Marketing"
      ]
     },
     "execution_count": 2,
     "metadata": {},
     "output_type": "execute_result"
    }
   ],
   "source": [
    "outlook = win32.Dispatch('outlook.application')\n",
    "gerentes_df = pd.read_excel('Enviar E-mails.xlsx')\n",
    "gerentes_df"
   ]
  },
  {
   "cell_type": "code",
   "execution_count": null,
   "id": "21e27544",
   "metadata": {},
   "outputs": [],
   "source": [
    "#Automação de envio de email para pessoas de areas diferentes. \n",
    "#O Email foi enviado personalizado para cada pessoa da area com seu nome e sua area, juntamento com os Arquivos em Anexo.\n",
    "\n",
    "for i, email in enumerate(gerentes_df['E-mail']):\n",
    "    gerente = gerentes_df.loc[i, 'Gerente']\n",
    "    area = gerentes_df.loc[i, 'Relatório']\n",
    "    \n",
    "    mail = outlook.CreateItem(0)\n",
    "    mail.To = email\n",
    "    mail.Subject = 'Relatório de {}'.format(area)\n",
    "    mail.Body = '''\n",
    "    Prezado {}, \n",
    "    Segue em anexo o Relatório de {}, conforme solicitado.\n",
    "    Qualquer dúvida estou à disposição.\n",
    "    Att.,\n",
    "    '''.format(gerente, area)\n",
    "    \n",
    "    #adicionar anexos ao email\n",
    "    attachment  = r'C:\\Users\\joaog\\Documentos\\Integracao_Email\\{}.xlsx'.format(area)\n",
    "    mail.Attachments.Add(attachment)\n",
    "\n",
    "    mail.Send()"
   ]
  }
 ],
 "metadata": {
  "kernelspec": {
   "display_name": "Python 3 (ipykernel)",
   "language": "python",
   "name": "python3"
  },
  "language_info": {
   "codemirror_mode": {
    "name": "ipython",
    "version": 3
   },
   "file_extension": ".py",
   "mimetype": "text/x-python",
   "name": "python",
   "nbconvert_exporter": "python",
   "pygments_lexer": "ipython3",
   "version": "3.9.7"
  }
 },
 "nbformat": 4,
 "nbformat_minor": 5
}
